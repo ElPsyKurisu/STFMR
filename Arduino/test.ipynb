{
 "cells": [
  {
   "cell_type": "code",
   "execution_count": 9,
   "metadata": {},
   "outputs": [
    {
     "data": {
      "text/plain": [
       "('ASRL3::INSTR',\n",
       " 'ASRL6::INSTR',\n",
       " 'GPIB0::8::INSTR',\n",
       " 'USB0::0x0957::0x17A6::MY63080078::0::INSTR')"
      ]
     },
     "execution_count": 9,
     "metadata": {},
     "output_type": "execute_result"
    }
   ],
   "source": [
    "from ekpy import control\n",
    "rm = control.ResourceManager()\n",
    "rm.list_resources()"
   ]
  },
  {
   "cell_type": "code",
   "execution_count": 12,
   "metadata": {},
   "outputs": [],
   "source": [
    "inst = rm.open_resource('ASRL6::INSTR', baud_rate=115200)"
   ]
  },
  {
   "cell_type": "code",
   "execution_count": 13,
   "metadata": {},
   "outputs": [
    {
     "data": {
      "text/plain": [
       "7"
      ]
     },
     "execution_count": 13,
     "metadata": {},
     "output_type": "execute_result"
    }
   ],
   "source": [
    "inst.write('100,1')\n",
    "\n",
    "#should write a function, use 1 for a direciton, or 0 for another\n",
    "#first number is number of steps aka inst.write('100,1') moves 100 steps in the 1 direction \n",
    "#inst.write('100')\n",
    "#is the same as\n",
    "#inst.write('69,21') #fascinating"
   ]
  },
  {
   "cell_type": "code",
   "execution_count": 15,
   "metadata": {},
   "outputs": [
    {
     "data": {
      "text/plain": [
       "7"
      ]
     },
     "execution_count": 15,
     "metadata": {},
     "output_type": "execute_result"
    }
   ],
   "source": [
    "inst.write('100,0')"
   ]
  },
  {
   "cell_type": "code",
   "execution_count": 14,
   "metadata": {},
   "outputs": [
    {
     "data": {
      "text/plain": [
       "7"
      ]
     },
     "execution_count": 14,
     "metadata": {},
     "output_type": "execute_result"
    }
   ],
   "source": [
    "inst.write('100,1') #so almost 200 steps per motor revoltuion, some slipping may me happening is my guess The adapter isnt working super well, the set screw comes undone is the problem"
   ]
  },
  {
   "cell_type": "markdown",
   "metadata": {},
   "source": [
    "current to do is the see if we can tighten the motor shaft and fix the slipping issue -> could be under acceleration at the beginning it slips\n",
    "but its working rn wack\n",
    "not super smooth, could incorporate microstepping\n",
    "motor gets HOT with lots of steps"
   ]
  },
  {
   "cell_type": "code",
   "execution_count": 20,
   "metadata": {},
   "outputs": [
    {
     "name": "stdout",
     "output_type": "stream",
     "text": [
      "new Data yippie\n",
      "\n",
      "Command Recieved\n",
      "\n",
      "new Data yippie\n",
      "\n",
      "Command Recieved\n",
      "\n",
      "finished\n"
     ]
    }
   ],
   "source": [
    "try:\n",
    "    for i in range(50):\n",
    "        print(inst.read())\n",
    "except:\n",
    "    print('finished')"
   ]
  },
  {
   "cell_type": "code",
   "execution_count": null,
   "metadata": {},
   "outputs": [],
   "source": [
    "#so if i write something like inst.write(thingies) it returns the length of stuff back, so i should call read that many times"
   ]
  },
  {
   "cell_type": "code",
   "execution_count": 19,
   "metadata": {},
   "outputs": [
    {
     "name": "stdout",
     "output_type": "stream",
     "text": [
      "Command Recieved\n",
      "\n",
      "new Data yippie\n",
      "\n",
      "Command Recieved\n",
      "\n",
      "new Data yippie\n",
      "\n",
      "Command Recieved\n",
      "\n",
      "new Data yippie\n",
      "\n",
      "Command Recieved\n",
      "\n"
     ]
    }
   ],
   "source": [
    "num_commands = inst.write('69 21')\n",
    "for i in range(num_commands):\n",
    "    print(inst.read())"
   ]
  },
  {
   "cell_type": "markdown",
   "metadata": {},
   "source": [
    "WHY COMMAND RECIEVED X3 and not twice? nani"
   ]
  },
  {
   "cell_type": "code",
   "execution_count": 9,
   "metadata": {},
   "outputs": [],
   "source": [
    "rm.close()"
   ]
  },
  {
   "cell_type": "markdown",
   "metadata": {},
   "source": [
    "TO DO:\n",
    "Make sure the arduino returns the amount of steps I passed it and the dir and I can read it back on python. Other than that I think we gucci, and just need to make sure we know how to change the direction.\n",
    "\n",
    "Later could even make the speed a variable but for now ehhhhh"
   ]
  },
  {
   "cell_type": "markdown",
   "metadata": {},
   "source": [
    "So we could have the arduino save its position and return it everytime we ask it for steps, so instead of write to the arduino we query it such that we also read the value, and if the arduino sees that it went to far it gives back a oops bad boy and we gucci"
   ]
  },
  {
   "cell_type": "code",
   "execution_count": null,
   "metadata": {},
   "outputs": [],
   "source": []
  }
 ],
 "metadata": {
  "kernelspec": {
   "display_name": "Python 3",
   "language": "python",
   "name": "python3"
  },
  "language_info": {
   "codemirror_mode": {
    "name": "ipython",
    "version": 3
   },
   "file_extension": ".py",
   "mimetype": "text/x-python",
   "name": "python",
   "nbconvert_exporter": "python",
   "pygments_lexer": "ipython3",
   "version": "3.12.0"
  }
 },
 "nbformat": 4,
 "nbformat_minor": 2
}

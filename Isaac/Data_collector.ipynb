{
 "cells": [
  {
   "cell_type": "code",
   "execution_count": 41,
   "metadata": {},
   "outputs": [],
   "source": [
    "import numpy as np\n",
    "from ekpy.analysis import plotting\n",
    "import pandas as pd\n",
    "import matplotlib.pyplot as plt\n",
    "import matplotlib.ticker as ticker\n",
    "from scipy.optimize import curve_fit\n",
    "from os import listdir\n",
    "plt.style.use(plotting.lane_martin)"
   ]
  },
  {
   "cell_type": "code",
   "execution_count": 2,
   "metadata": {},
   "outputs": [],
   "source": [
    "def find_datafiles(directories):\n",
    "    datafiles = []\n",
    "    file_labels = {}\n",
    "    for directory in directories:\n",
    "        for item in listdir('.\\%s'%directory):\n",
    "            if item.find('data.xlsx')!=-1:\n",
    "                datafile = '.\\\\%s\\\\%s'%(directory,item)\n",
    "                datafiles.append(datafile)\n",
    "                file_labels['%s'%(datafile)] = item[0:item.find('_data.xlsx')]\n",
    "    return datafiles, file_labels #file_labels is indexed by items in datafiles\n",
    "        "
   ]
  },
  {
   "cell_type": "code",
   "execution_count": 3,
   "metadata": {},
   "outputs": [],
   "source": [
    "def read_data(data_file_name): #for the new data, data taken with Eric's new code setup\n",
    "    sample_columns = \"A,B,C,D,E\"\n",
    "    device_columns = \"A,B,C,D,E,F,G,H,I,J,K,L,M,N,O,P,Q,R\"\n",
    "    sample_data = pd.read_excel(data_file_name,\n",
    "                                         usecols = sample_columns,\n",
    "                                         skiprows = 1,\n",
    "                                         nrows = 1)\n",
    "    device_data = pd.read_excel(data_file_name,\n",
    "                                usecols = device_columns,\n",
    "                                skiprows = 3)\n",
    "    return {'specs': sample_data, 'devices': device_data}\n",
    "    "
   ]
  },
  {
   "cell_type": "code",
   "execution_count": 4,
   "metadata": {},
   "outputs": [],
   "source": [
    "def read_old_data(data_file_name): #for the old data. Does not include Power information, and does not include dOffset.\n",
    "    sample_columns = \"O,P,Q,R,S\"\n",
    "    device_columns = \"A,B,C,D,E,F,G,H,I,J,K,L,M\"\n",
    "    sample_data = pd.read_excel(data_file_name,\n",
    "                                usecols = sample_columns,\n",
    "                                skiprows = 1,\n",
    "                                nrows = 1)\n",
    "    old = pd.read_excel(data_file_name,\n",
    "                                usecols = device_columns)\n",
    "    #Now we reformat so the format matches the format of the newer data:\n",
    "    device_data = {'Filename':old['Filename']}\n",
    "    device_data['Sample'] = old['Device']\n",
    "    device_data['Frequency'] = old['Frequency (GHz)']\n",
    "    #device_data['Power'] = 'nan'\n",
    "    #device_data['Trial'] = 'nan'\n",
    "    #device_data['Count'] = 'nan'\n",
    "    #device_data['Sleep'] = 'nan'\n",
    "    device_data['S'] = old['S']\n",
    "    device_data['dS']=old['S_err']\n",
    "    device_data['A']=old['A']\n",
    "    device_data['dA']=old['A_err']\n",
    "    device_data['W']=old['W (Oe)']\n",
    "    device_data['dW']=old['W_err']\n",
    "    device_data['H0']=old['H0']\n",
    "    device_data['dH0']=old['H0_err']\n",
    "    device_data['Offset']=old['Offset']\n",
    "    #device_data['dOffset']='nan'\n",
    "    device_data['label']=old['Label']\n",
    "    return {'specs': sample_data, 'devices': pd.DataFrame(device_data)}\n",
    "    "
   ]
  },
  {
   "cell_type": "code",
   "execution_count": 35,
   "metadata": {},
   "outputs": [],
   "source": [
    "g_e = 2.0 #lande g factor for electron\n",
    "bohr_mag = 9.274e-21 #erg/G, CGS units\n",
    "hbar = 1.055e-27 #erg*s, CGS units\n",
    "gyromagnetic_ratio = g_e * bohr_mag/hbar # = 1.76e7 1/Gs so \n",
    "mu_naught = 4*np.pi #CGS (emu) units\n",
    "e = 1.602e-20 #abC, or Abcoulomb. CGS units.\n",
    "\n",
    "\n",
    "def kittel_equation(B,Meff,Hanis):\n",
    "    return (gyromagnetic_ratio/(2*np.pi*1e9))*np.sqrt((B+Hanis)*(B+Hanis+mu_naught*Meff))\n",
    "\n",
    "def SHA(S,A,Ms,t,d,Meff,Bres): #everything must be in CGS units\n",
    "    temp_SHA = (S/A)*(e*mu_naught*Ms*t*d/hbar)*np.sqrt(1+mu_naught*Meff/np.abs(Bres))\n",
    "    if Bres > 0: return -1.0*temp_SHA\n",
    "    if Bres < 0: return temp_SHA\n",
    "    #return temp_SHA \n",
    "        \n",
    "def root_sum_squares(any_list):\n",
    "    sum_squares = 0\n",
    "    for item in any_list:\n",
    "        sum_squares += item**2\n",
    "    return np.sqrt(sum_squares)\n",
    "\n",
    "def calculate_SHAs(sample): #sample should be a dictionary\n",
    "    SHAs = []\n",
    "    dSHAs = []\n",
    "    for i in range(len(sample['devices']['S'])):\n",
    "        spin_Hall_angle = SHA(sample['devices']['S'][i],\n",
    "                           sample['devices']['A'][i],\n",
    "                           sample['specs']['LSMO Ms'],\n",
    "                           sample['specs']['BPBO-thick'],\n",
    "                           sample['specs']['LSMO-thick'],\n",
    "                           sample['specs']['LSMO Meff'],\n",
    "                           sample['devices']['H0'][i])\n",
    "        SHAs.append(float(spin_Hall_angle))\n",
    "        uncertainties = [sample['devices']['dA'][i]/sample['devices']['A'][i],\n",
    "                         1e-7/sample['specs']['BPBO-thick'],\n",
    "                         1e-7/sample['specs']['LSMO-thick'],\n",
    "                         sample['devices']['dS'][i]/sample['devices']['S'][i]]\n",
    "        dSHAs.append(float(np.abs(spin_Hall_angle) * root_sum_squares(uncertainties)))\n",
    "    SHA_dataFrame = pd.DataFrame({'SHA': SHAs, 'dSHA': dSHAs})\n",
    "    #display(SHA_dataFrame)\n",
    "    new_devices_frame = pd.concat([sample['devices'],SHA_dataFrame],axis=1,join = 'inner')\n",
    "    return {'specs': sample['specs'],'devices': new_devices_frame}\n",
    "\n",
    "def kittel_fit(sample):\n",
    "    popt, pcov = curve_fit(kittel_equation,\n",
    "                           np.abs(sample['devices']['H0']),\n",
    "                           sample['devices']['Frequency'],\n",
    "                           p0 = [300,20],\n",
    "                           maxfev = 1000)\n",
    "    perr = np.sqrt(np.diag(pcov))\n",
    "    Meff, Hanis = popt[0], popt[1]\n",
    "    dMeff, dHanis = perr[0],perr[1]\n",
    "    return Meff, dMeff, Hanis, dHanis\n"
   ]
  },
  {
   "cell_type": "code",
   "execution_count": 89,
   "metadata": {},
   "outputs": [],
   "source": [
    "def conditions_on_SHAs(sample):\n",
    "    old = sample['devices']\n",
    "    #all conditions must be true for good SHAs.\n",
    "    condition = (old['dSHA']/old['SHA']<0.3)\n",
    "    condition &= (old['SHA']>0)\n",
    "    new_df = old.loc[condition]\n",
    "    return new_df\n"
   ]
  },
  {
   "cell_type": "code",
   "execution_count": 90,
   "metadata": {},
   "outputs": [
    {
     "name": "stdout",
     "output_type": "stream",
     "text": [
      "finished 051022a\n",
      "finished 050322a-STO\n",
      "finished 012622a-STO\n"
     ]
    },
    {
     "name": "stderr",
     "output_type": "stream",
     "text": [
      "C:\\Users\\Isaac\\AppData\\Local\\Temp\\ipykernel_16936\\1300110493.py:26: SettingWithCopyWarning: \n",
      "A value is trying to be set on a copy of a slice from a DataFrame.\n",
      "Try using .loc[row_indexer,col_indexer] = value instead\n",
      "\n",
      "See the caveats in the documentation: https://pandas.pydata.org/pandas-docs/stable/user_guide/indexing.html#returning-a-view-versus-a-copy\n",
      "  sample['SHA-conditions']['f_a_ts'] = frequency_adjusted_thicknesses(sample['specs']['BPBO-thick'][0],sample['SHA-conditions']['Frequency'])\n",
      "C:\\Users\\Isaac\\AppData\\Local\\Temp\\ipykernel_16936\\1300110493.py:26: SettingWithCopyWarning: \n",
      "A value is trying to be set on a copy of a slice from a DataFrame.\n",
      "Try using .loc[row_indexer,col_indexer] = value instead\n",
      "\n",
      "See the caveats in the documentation: https://pandas.pydata.org/pandas-docs/stable/user_guide/indexing.html#returning-a-view-versus-a-copy\n",
      "  sample['SHA-conditions']['f_a_ts'] = frequency_adjusted_thicknesses(sample['specs']['BPBO-thick'][0],sample['SHA-conditions']['Frequency'])\n",
      "C:\\Users\\Isaac\\AppData\\Local\\Temp\\ipykernel_16936\\37822015.py:4: FutureWarning: Defining usecols with out of bounds indices is deprecated and will raise a ParserError in a future version.\n",
      "  sample_data = pd.read_excel(data_file_name,\n",
      "C:\\Users\\Isaac\\AppData\\Local\\Temp\\ipykernel_16936\\1300110493.py:26: SettingWithCopyWarning: \n",
      "A value is trying to be set on a copy of a slice from a DataFrame.\n",
      "Try using .loc[row_indexer,col_indexer] = value instead\n",
      "\n",
      "See the caveats in the documentation: https://pandas.pydata.org/pandas-docs/stable/user_guide/indexing.html#returning-a-view-versus-a-copy\n",
      "  sample['SHA-conditions']['f_a_ts'] = frequency_adjusted_thicknesses(sample['specs']['BPBO-thick'][0],sample['SHA-conditions']['Frequency'])\n"
     ]
    },
    {
     "name": "stdout",
     "output_type": "stream",
     "text": [
      "finished 020722b-STO\n",
      "finished 032822-LSAT\n"
     ]
    },
    {
     "name": "stderr",
     "output_type": "stream",
     "text": [
      "C:\\Users\\Isaac\\AppData\\Local\\Temp\\ipykernel_16936\\1300110493.py:26: SettingWithCopyWarning: \n",
      "A value is trying to be set on a copy of a slice from a DataFrame.\n",
      "Try using .loc[row_indexer,col_indexer] = value instead\n",
      "\n",
      "See the caveats in the documentation: https://pandas.pydata.org/pandas-docs/stable/user_guide/indexing.html#returning-a-view-versus-a-copy\n",
      "  sample['SHA-conditions']['f_a_ts'] = frequency_adjusted_thicknesses(sample['specs']['BPBO-thick'][0],sample['SHA-conditions']['Frequency'])\n",
      "C:\\Users\\Isaac\\AppData\\Local\\Temp\\ipykernel_16936\\1300110493.py:26: SettingWithCopyWarning: \n",
      "A value is trying to be set on a copy of a slice from a DataFrame.\n",
      "Try using .loc[row_indexer,col_indexer] = value instead\n",
      "\n",
      "See the caveats in the documentation: https://pandas.pydata.org/pandas-docs/stable/user_guide/indexing.html#returning-a-view-versus-a-copy\n",
      "  sample['SHA-conditions']['f_a_ts'] = frequency_adjusted_thicknesses(sample['specs']['BPBO-thick'][0],sample['SHA-conditions']['Frequency'])\n"
     ]
    },
    {
     "name": "stdout",
     "output_type": "stream",
     "text": [
      "finished 050422-STO\n",
      "finished 111621b\n",
      "finished 111721\n",
      "finished 120621\n"
     ]
    },
    {
     "name": "stderr",
     "output_type": "stream",
     "text": [
      "C:\\Users\\Isaac\\AppData\\Local\\Temp\\ipykernel_16936\\1300110493.py:26: SettingWithCopyWarning: \n",
      "A value is trying to be set on a copy of a slice from a DataFrame.\n",
      "Try using .loc[row_indexer,col_indexer] = value instead\n",
      "\n",
      "See the caveats in the documentation: https://pandas.pydata.org/pandas-docs/stable/user_guide/indexing.html#returning-a-view-versus-a-copy\n",
      "  sample['SHA-conditions']['f_a_ts'] = frequency_adjusted_thicknesses(sample['specs']['BPBO-thick'][0],sample['SHA-conditions']['Frequency'])\n",
      "C:\\Users\\Isaac\\AppData\\Local\\Temp\\ipykernel_16936\\1300110493.py:26: SettingWithCopyWarning: \n",
      "A value is trying to be set on a copy of a slice from a DataFrame.\n",
      "Try using .loc[row_indexer,col_indexer] = value instead\n",
      "\n",
      "See the caveats in the documentation: https://pandas.pydata.org/pandas-docs/stable/user_guide/indexing.html#returning-a-view-versus-a-copy\n",
      "  sample['SHA-conditions']['f_a_ts'] = frequency_adjusted_thicknesses(sample['specs']['BPBO-thick'][0],sample['SHA-conditions']['Frequency'])\n"
     ]
    },
    {
     "name": "stdout",
     "output_type": "stream",
     "text": [
      "finished 120721\n",
      "finished 120821a\n",
      "finished annealed_012622a-STO\n"
     ]
    },
    {
     "name": "stderr",
     "output_type": "stream",
     "text": [
      "C:\\Users\\Isaac\\AppData\\Local\\Temp\\ipykernel_16936\\1300110493.py:26: SettingWithCopyWarning: \n",
      "A value is trying to be set on a copy of a slice from a DataFrame.\n",
      "Try using .loc[row_indexer,col_indexer] = value instead\n",
      "\n",
      "See the caveats in the documentation: https://pandas.pydata.org/pandas-docs/stable/user_guide/indexing.html#returning-a-view-versus-a-copy\n",
      "  sample['SHA-conditions']['f_a_ts'] = frequency_adjusted_thicknesses(sample['specs']['BPBO-thick'][0],sample['SHA-conditions']['Frequency'])\n",
      "C:\\Users\\Isaac\\AppData\\Local\\Temp\\ipykernel_16936\\1300110493.py:26: SettingWithCopyWarning: \n",
      "A value is trying to be set on a copy of a slice from a DataFrame.\n",
      "Try using .loc[row_indexer,col_indexer] = value instead\n",
      "\n",
      "See the caveats in the documentation: https://pandas.pydata.org/pandas-docs/stable/user_guide/indexing.html#returning-a-view-versus-a-copy\n",
      "  sample['SHA-conditions']['f_a_ts'] = frequency_adjusted_thicknesses(sample['specs']['BPBO-thick'][0],sample['SHA-conditions']['Frequency'])\n"
     ]
    },
    {
     "name": "stdout",
     "output_type": "stream",
     "text": [
      "finished annealed_032822-STO\n",
      "finished annealed_111621b-STO\n",
      "finished annealed_111721-STO\n",
      "finished annealed_120621-STO\n"
     ]
    },
    {
     "name": "stderr",
     "output_type": "stream",
     "text": [
      "C:\\Users\\Isaac\\AppData\\Local\\Temp\\ipykernel_16936\\1300110493.py:26: SettingWithCopyWarning: \n",
      "A value is trying to be set on a copy of a slice from a DataFrame.\n",
      "Try using .loc[row_indexer,col_indexer] = value instead\n",
      "\n",
      "See the caveats in the documentation: https://pandas.pydata.org/pandas-docs/stable/user_guide/indexing.html#returning-a-view-versus-a-copy\n",
      "  sample['SHA-conditions']['f_a_ts'] = frequency_adjusted_thicknesses(sample['specs']['BPBO-thick'][0],sample['SHA-conditions']['Frequency'])\n",
      "C:\\Users\\Isaac\\AppData\\Local\\Temp\\ipykernel_16936\\1300110493.py:26: SettingWithCopyWarning: \n",
      "A value is trying to be set on a copy of a slice from a DataFrame.\n",
      "Try using .loc[row_indexer,col_indexer] = value instead\n",
      "\n",
      "See the caveats in the documentation: https://pandas.pydata.org/pandas-docs/stable/user_guide/indexing.html#returning-a-view-versus-a-copy\n",
      "  sample['SHA-conditions']['f_a_ts'] = frequency_adjusted_thicknesses(sample['specs']['BPBO-thick'][0],sample['SHA-conditions']['Frequency'])\n",
      "C:\\Users\\Isaac\\AppData\\Local\\Temp\\ipykernel_16936\\1300110493.py:26: SettingWithCopyWarning: \n",
      "A value is trying to be set on a copy of a slice from a DataFrame.\n",
      "Try using .loc[row_indexer,col_indexer] = value instead\n",
      "\n",
      "See the caveats in the documentation: https://pandas.pydata.org/pandas-docs/stable/user_guide/indexing.html#returning-a-view-versus-a-copy\n",
      "  sample['SHA-conditions']['f_a_ts'] = frequency_adjusted_thicknesses(sample['specs']['BPBO-thick'][0],sample['SHA-conditions']['Frequency'])\n",
      "C:\\Users\\Isaac\\AppData\\Local\\Temp\\ipykernel_16936\\1300110493.py:26: SettingWithCopyWarning: \n",
      "A value is trying to be set on a copy of a slice from a DataFrame.\n",
      "Try using .loc[row_indexer,col_indexer] = value instead\n",
      "\n",
      "See the caveats in the documentation: https://pandas.pydata.org/pandas-docs/stable/user_guide/indexing.html#returning-a-view-versus-a-copy\n",
      "  sample['SHA-conditions']['f_a_ts'] = frequency_adjusted_thicknesses(sample['specs']['BPBO-thick'][0],sample['SHA-conditions']['Frequency'])\n",
      "C:\\Users\\Isaac\\AppData\\Local\\Temp\\ipykernel_16936\\1300110493.py:26: SettingWithCopyWarning: \n",
      "A value is trying to be set on a copy of a slice from a DataFrame.\n",
      "Try using .loc[row_indexer,col_indexer] = value instead\n",
      "\n",
      "See the caveats in the documentation: https://pandas.pydata.org/pandas-docs/stable/user_guide/indexing.html#returning-a-view-versus-a-copy\n",
      "  sample['SHA-conditions']['f_a_ts'] = frequency_adjusted_thicknesses(sample['specs']['BPBO-thick'][0],sample['SHA-conditions']['Frequency'])\n"
     ]
    },
    {
     "name": "stdout",
     "output_type": "stream",
     "text": [
      "finished annealed_120721-STO\n",
      "finished annealed_120821a-STO\n"
     ]
    },
    {
     "data": {
      "image/png": "[encoded data removed]",
      "text/plain": [
       "<Figure size 432x288 with 1 Axes>"
      ]
     },
     "metadata": {
      "needs_background": "light"
     },
     "output_type": "display_data"
    }
   ],
   "source": [
    "#This makes the large SOTscatterplot with all of the data.\n",
    "def frequency_adjusted_thicknesses(thickness,frequencies):\n",
    "    datapoint_spread = 0.4\n",
    "    minFreq = min(frequencies)\n",
    "    maxFreq = max(frequencies)\n",
    "    midFreq = (minFreq+maxFreq)*0.5\n",
    "    Freq_range = maxFreq-minFreq\n",
    "    frequency_adjusted_thicknesses = []\n",
    "    for frequency in frequencies:\n",
    "        if Freq_range !=0: offset_normalized = (frequency - midFreq)/Freq_range\n",
    "        else: offset_normalized = 0\n",
    "        frequency_adjusted_thicknesses.append(thickness*1e7+datapoint_spread*offset_normalized) #also converts to nm\n",
    "    return frequency_adjusted_thicknesses\n",
    "        \n",
    "\n",
    "directories = ['BPBO-LSMO\\\\051022a','BPBO-LSMO\\\\050322a','old_format\\\\BPBO-LSMO']\n",
    "datafiles,file_labels = find_datafiles(directories) \n",
    "SOTscatter_fig, SOTscatter_ax = plt.subplots()\n",
    "for datafile in datafiles:\n",
    "    if datafile[0:6] == '.\\old_': sample = read_old_data(datafile)\n",
    "    else: sample = read_data(datafile)\n",
    "    sample = calculate_SHAs(sample)\n",
    "    sample['SHA-conditions'] = conditions_on_SHAs(sample)\n",
    "    print('finished %s' %file_labels[datafile])\n",
    "    #display(sample)\n",
    "    sample['SHA-conditions']['f_a_ts'] = frequency_adjusted_thicknesses(sample['specs']['BPBO-thick'][0],sample['SHA-conditions']['Frequency'])\n",
    "    x = sample['SHA-conditions']['f_a_ts']\n",
    "    y = sample['SHA-conditions']['SHA']\n",
    "    yerr = sample['SHA-conditions']['dSHA']\n",
    "    #print(x,y,yerr)\n",
    "    SOTscatter_ax.errorbar(x,y,yerr,linestyle = '',marker = '.')"
   ]
  },
  {
   "cell_type": "code",
   "execution_count": 78,
   "metadata": {},
   "outputs": [
    {
     "name": "stdout",
     "output_type": "stream",
     "text": [
      "050322a-STO mean SHA: 3.14 +/- 2.0\n",
      "050322a-STO Meff: 332.0 +/- 3.4\n",
      "050322a-STO Hanis: 26.9 +/- 2.8\n"
     ]
    },
    {
     "data": {
      "image/png": "[encoded data removed]",
      "text/plain": [
       "<Figure size 864x360 with 2 Axes>"
      ]
     },
     "metadata": {
      "needs_background": "light"
     },
     "output_type": "display_data"
    }
   ],
   "source": [
    "#this plots SHAs for individual devices vs. frequency and does kittel fits.\n",
    "directories = ['BPBO-LSMO\\\\050322a']\n",
    "datafiles,file_labels = find_datafiles(directories) \n",
    "fig, (ax1,ax2) = plt.subplots(ncols = 2, figsize = (12,5))\n",
    "for datafile in datafiles:\n",
    "    if datafile[0:6] == '.\\old_': sample = read_old_data(datafile)\n",
    "    else: sample = read_data(datafile)\n",
    "    sample = calculate_SHAs(sample)\n",
    "    sample['SHA-conditions'] = conditions_on_SHAs(sample)\n",
    "    x = sample['SHA-conditions']['Frequency']\n",
    "    y = sample['SHA-conditions']['SHA']\n",
    "    yerr = sample['SHA-conditions']['dSHA']\n",
    "    ax1.errorbar(x,y,yerr,label = file_labels[datafile], linestyle = '',marker = '.')\n",
    "    print(r'%s mean SHA: %.2f +/- %.1f'%(file_labels[datafile],np.mean(y), np.std(y)))\n",
    "ax1.legend()\n",
    "\n",
    "\n",
    "for datafile in datafiles:\n",
    "    if datafile[0:6] == '.\\old_': sample = read_old_data(datafile)\n",
    "    else: sample = read_data(datafile)\n",
    "    sample = calculate_SHAs(sample)\n",
    "    sample['SHA-conditions'] = conditions_on_SHAs(sample)\n",
    "    \n",
    "    Meff,dMeff, Hanis, dHanis = kittel_fit(sample)\n",
    "    x1, y1 = np.abs(sample['devices']['H0']), sample['devices']['Frequency']\n",
    "    ax2.plot(x1,y1,label = file_labels[datafile], marker = '.', linestyle = '')\n",
    "    T = np.linspace(min(x1),max(x1),1000)\n",
    "    ax2.plot(T,kittel_equation(T,Meff,Hanis),color = 'k')\n",
    "    print(r'%s Meff: %.1f +/- %.1f'%(file_labels[datafile],Meff, dMeff))\n",
    "    print(r'%s Hanis: %.1f +/- %.1f'%(file_labels[datafile],Hanis, dHanis))"
   ]
  },
  {
   "cell_type": "code",
   "execution_count": 66,
   "metadata": {},
   "outputs": [
    {
     "data": {
      "text/plain": [
       "Text(0, 0.5, 'SOT Efficiency')"
      ]
     },
     "execution_count": 66,
     "metadata": {},
     "output_type": "execute_result"
    },
    {
     "data": {
      "image/png": "[encoded data removed]",
      "text/plain": [
       "<Figure size 1200x800 with 1 Axes>"
      ]
     },
     "metadata": {
      "needs_background": "light"
     },
     "output_type": "display_data"
    }
   ],
   "source": [
    "#This makes a thickness series\n",
    "directories = ['BPBO-LSMO\\\\051022a','old_format\\\\BPBO-LSMO\\\\thickness_series']\n",
    "datafiles,file_labels = find_datafiles(directories) \n",
    "Lthick_fig, Lthick_ax = plt.subplots(dpi = 200)\n",
    "for datafile in datafiles:\n",
    "    if datafile[0:6] == '.\\old_': sample = read_old_data(datafile)\n",
    "    else: sample = read_data(datafile)\n",
    "    sample = calculate_SHAs(sample)\n",
    "    sample['SHA-conditions'] = conditions_on_SHAs(sample)\n",
    "    \n",
    "    xx = sample['specs']['LSMO-thick']*1e7 #units nm\n",
    "    yy = np.mean(sample['SHA-conditions']['SHA'])\n",
    "    yyerr = max(np.mean(sample['SHA-conditions']['dSHA']),np.std(sample['SHA-conditions']['SHA'])/len(sample['SHA-conditions']['SHA']))\n",
    "    Lthick_ax.errorbar(xx,yy,yyerr, color = 'k', marker = '.', capsize = 3, linestyle = '', linewidth = 1.5)\n",
    "Lthick_ax.set_ylim((0,None))\n",
    "Lthick_ax.set_xlabel('LSMO thickness (nm)')\n",
    "Lthick_ax.set_ylabel(r'SOT Efficiency')\n",
    "    "
   ]
  },
  {
   "cell_type": "code",
   "execution_count": 68,
   "metadata": {},
   "outputs": [],
   "source": [
    "#figure_filename = '.\\\\figures\\\\LSMO-thick_series_051822.png'\n",
    "Lthick_fig.savefig(figure_filename,bbox_inches='tight') #transparent=True"
   ]
  },
  {
   "cell_type": "code",
   "execution_count": null,
   "metadata": {},
   "outputs": [],
   "source": []
  }
 ],
 "metadata": {
  "kernelspec": {
   "display_name": "Python 3 (ipykernel)",
   "language": "python",
   "name": "python3"
  },
  "language_info": {
   "codemirror_mode": {
    "name": "ipython",
    "version": 3
   },
   "file_extension": ".py",
   "mimetype": "text/x-python",
   "name": "python",
   "nbconvert_exporter": "python",
   "pygments_lexer": "ipython3",
   "version": "3.9.13"
  }
 },
 "nbformat": 4,
 "nbformat_minor": 4
}

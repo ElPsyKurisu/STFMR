{
 "cells": [
  {
   "cell_type": "code",
   "execution_count": 1,
   "metadata": {},
   "outputs": [],
   "source": [
    "from ekpy import control\n",
    "from ekpy.analysis import plotting \n",
    "from stfmr_script import lockin_STFMR #this is where we make the STFMR module\n",
    "from stfmr_script import STFMR\n",
    "\n",
    "from ekpy.control.instruments import (lakeshore647, lakeshore475, berkeleynucleonics845, keithley2182A)\n",
    "#warning: berkeleynucleonics845 and keithley2182A are additions that I made.\n",
    "\n",
    "import pandas as pd\n",
    "import numpy as np\n",
    "import matplotlib.pyplot as plt\n",
    "\n",
    "plt.style.use(plotting.lane_martin)"
   ]
  },
  {
   "cell_type": "code",
   "execution_count": 2,
   "metadata": {},
   "outputs": [],
   "source": [
    "rm = control.ResourceManager()"
   ]
  },
  {
   "cell_type": "code",
   "execution_count": 3,
   "metadata": {},
   "outputs": [
    {
     "data": {
      "text/plain": [
       "('GPIB0::1::INSTR', 'GPIB0::10::INSTR', 'GPIB0::12::INSTR', 'GPIB0::13::INSTR')"
      ]
     },
     "execution_count": 3,
     "metadata": {},
     "output_type": "execute_result"
    }
   ],
   "source": [
    "rm.list_resources()"
   ]
  },
  {
   "cell_type": "code",
   "execution_count": 4,
   "metadata": {},
   "outputs": [
    {
     "name": "stdout",
     "output_type": "stream",
     "text": [
      "LSCI,MODEL475,4750451,09302005\n",
      "Berkeley Nucleonics Corporation,MODEL 845,421-4396D0610-1272,0.4.136\n"
     ]
    }
   ],
   "source": [
    "gauss_meter = rm.open_resource('GPIB0::12::INSTR')\n",
    "print(gauss_meter.query('*idn?')[:-1])\n",
    "rf_generator = rm.open_resource('GPIB0::1::INSTR')\n",
    "print(rf_generator.query('*idn?')[:-1])\n",
    "current_supply = rm.open_resource('GPIB0::13::INSTR')\n",
    "#current_supply.query('*idn?')"
   ]
  },
  {
   "cell_type": "code",
   "execution_count": 5,
   "metadata": {},
   "outputs": [
    {
     "name": "stdout",
     "output_type": "stream",
     "text": [
      "Stanford_Research_Systems,SR830,s/n52261,ver1.07 \n",
      "KEITHLEY INSTRUMENTS INC.,MODEL 6221,4314415,D03  /700x \n"
     ]
    }
   ],
   "source": [
    "lock_in = rm.open_resource('GPIB0::15::INSTR')\n",
    "print(lock_in.query('*idn?')[:-1])\n",
    "current_source = rm.open_resource('GPIB0::21::INSTR')\n",
    "print(current_source.query('*idn?')[:-1])"
   ]
  },
  {
   "cell_type": "code",
   "execution_count": 5,
   "metadata": {},
   "outputs": [
    {
     "name": "stdout",
     "output_type": "stream",
     "text": [
      "KEITHLEY INSTRUMENTS INC.,MODEL 2182A,4320885,C06  /A02  \n"
     ]
    }
   ],
   "source": [
    "voltmeter = rm.open_resource('GPIB0::10::INSTR')\n",
    "print(voltmeter.query('*idn?')[:-1])"
   ]
  },
  {
   "cell_type": "code",
   "execution_count": 6,
   "metadata": {},
   "outputs": [
    {
     "name": "stdin",
     "output_type": "stream",
     "text": [
      "Path './Rustem/S23-043D/' does not exist. Do you wish to create it? (y/n) y\n"
     ]
    },
    {
     "name": "stdout",
     "output_type": "stream",
     "text": [
      "making dir .\\Rustem\n",
      "making dir ./Rustem\\S23-043D\n"
     ]
    }
   ],
   "source": [
    "#exp = lockin_STFMR(lock_in, current_supply, gauss_meter, rf_generator)\n",
    "exp = STFMR(voltmeter, current_supply, gauss_meter, rf_generator)\n",
    "exp.config_path('./Rustem/S23-043D/')\n"
   ]
  },
  {
   "cell_type": "code",
   "execution_count": 23,
   "metadata": {},
   "outputs": [],
   "source": [
    "\"\"\"\n",
    "kw_scan_params = {'freq_start_end_step':[[5, 1200.,200.,3.],\n",
    "                                                  [4, 1100, 100., 3.],\n",
    "                                                  [3,1000.,0.,3],\n",
    "                                                  [2,900.,0.,3],\n",
    "                                                  [1,800.,0.,3]],                                                 \n",
    "                  'power': [15], 'reverse':[False,True],\n",
    "                  'count': [10]} \n",
    "\"\"\"\n",
    "kw_scan_params = {'reverse':[True,False]}\n",
    "fixed_params = {\n",
    "    'voltmeter':voltmeter,\n",
    "    # 'lock_in':lock_in,\n",
    "    'current_supply':current_supply,\n",
    "    'gauss_meter':gauss_meter,\n",
    "    'rf_generator':rf_generator,\n",
    "    'freq_start_end_step':[9, 1400., 400., 20.], #make sure these are all floats\n",
    "    #'frequency_GHz': 3.0,\n",
    "    #'start_field': 100,\n",
    "    #'end_field': 0,\n",
    "    #'field_step':5,\n",
    "    'sleep_between_fields':5,\n",
    "    'power':12,\n",
    "    'count':30,\n",
    "    'sleep_between_measurements':0.1,\n",
    "    'sleep_before_start':20,\n",
    "    #'reverse':False\n",
    "}\n",
    "scan_param_order = ['reverse']#['reverse','freq_start_end_step','power','count'] #ex 'harmonic', 'drive_curren"
   ]
  },
  {
   "cell_type": "code",
   "execution_count": 24,
   "metadata": {},
   "outputs": [
    {
     "name": "stdout",
     "output_type": "stream",
     "text": [
      "done.\n"
     ]
    }
   ],
   "source": [
    "exp.n_param_scan(kw_scan_params, fixed_params, scan_param_order)"
   ]
  },
  {
   "cell_type": "code",
   "execution_count": null,
   "metadata": {
    "tags": []
   },
   "outputs": [],
   "source": [
    "lakeshore647.ramp_powersupply_to_current(current_supply,0,0.5)"
   ]
  },
  {
   "cell_type": "code",
   "execution_count": null,
   "metadata": {},
   "outputs": [],
   "source": []
  }
 ],
 "metadata": {
  "kernelspec": {
   "display_name": "Python 3 (ipykernel)",
   "language": "python",
   "name": "python3"
  },
  "language_info": {
   "codemirror_mode": {
    "name": "ipython",
    "version": 3
   },
   "file_extension": ".py",
   "mimetype": "text/x-python",
   "name": "python",
   "nbconvert_exporter": "python",
   "pygments_lexer": "ipython3",
   "version": "3.9.13"
  }
 },
 "nbformat": 4,
 "nbformat_minor": 4
}

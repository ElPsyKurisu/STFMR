{
 "cells": [
  {
   "cell_type": "code",
   "execution_count": 1,
   "metadata": {},
   "outputs": [],
   "source": [
    "from ekpy.control.instruments import digilent"
   ]
  },
  {
   "cell_type": "code",
   "execution_count": 2,
   "metadata": {},
   "outputs": [
    {
     "name": "stdout",
     "output_type": "stream",
     "text": [
      "Found 1 DAQ device(s):\n",
      "  USB-1208HS-4AO (1EF1478) - Device ID = 198\n",
      "\n",
      "Active DAQ device: USB-1208HS-4AO (1EF1478)\n",
      "\n"
     ]
    },
    {
     "data": {
      "text/plain": [
       "(<ULRange.BIP10VOLTS: 1>, 4)"
      ]
     },
     "execution_count": 2,
     "metadata": {},
     "output_type": "execute_result"
    }
   ],
   "source": [
    "digilent.config_device()"
   ]
  },
  {
   "cell_type": "code",
   "execution_count": 6,
   "metadata": {},
   "outputs": [
    {
     "ename": "ULError",
     "evalue": "Error 1: Invalid board number.",
     "output_type": "error",
     "traceback": [
      "\u001b[1;31m---------------------------------------------------------------------------\u001b[0m",
      "\u001b[1;31mULError\u001b[0m                                   Traceback (most recent call last)",
      "\u001b[1;32mc:\\Files\\Adult\\Research\\Github\\STFMR\\dactest.ipynb Cell 3\u001b[0m line \u001b[0;36m1\n\u001b[1;32m----> <a href='vscode-notebook-cell:/c%3A/Files/Adult/Research/Github/STFMR/dactest.ipynb#W2sZmlsZQ%3D%3D?line=0'>1</a>\u001b[0m digilent\u001b[39m.\u001b[39;49mv_out(\u001b[39m0\u001b[39;49m, \u001b[39m0\u001b[39;49m, \u001b[39m10\u001b[39;49m, \u001b[39m5\u001b[39;49m)\n",
      "File \u001b[1;32mc:\\Users\\geofr\\AppData\\Local\\Programs\\Python\\Python311\\Lib\\site-packages\\ekpy\\control\\instruments\\digilent\\core.py:21\u001b[0m, in \u001b[0;36mv_out\u001b[1;34m(board_num, channel, ul_range, data_value, options)\u001b[0m\n\u001b[0;32m     17\u001b[0m \u001b[39mdef\u001b[39;00m \u001b[39mv_out\u001b[39m(board_num, channel, ul_range, data_value, options\u001b[39m=\u001b[39m\u001b[39m0\u001b[39m):\n\u001b[0;32m     18\u001b[0m     \u001b[39m'''\u001b[39;00m\n\u001b[0;32m     19\u001b[0m \u001b[39m    Wrapper for UL.v_out\u001b[39;00m\n\u001b[0;32m     20\u001b[0m \u001b[39m    '''\u001b[39;00m\n\u001b[1;32m---> 21\u001b[0m     ul\u001b[39m.\u001b[39;49mv_out(board_num, channel, ul_range, data_value, options)\n",
      "File \u001b[1;32mc:\\Users\\geofr\\AppData\\Local\\Programs\\Python\\Python311\\Lib\\site-packages\\mcculw\\ul.py:5577\u001b[0m, in \u001b[0;36mv_out\u001b[1;34m(board_num, channel, ul_range, data_value, options)\u001b[0m\n\u001b[0;32m   5554\u001b[0m \u001b[39mdef\u001b[39;00m \u001b[39mv_out\u001b[39m(board_num, channel, ul_range, data_value, options\u001b[39m=\u001b[39m\u001b[39m0\u001b[39m):\n\u001b[0;32m   5555\u001b[0m     \u001b[39m\"\"\"Sets the voltage value of a D/A channel. This function cannot be used for current output.\u001b[39;00m\n\u001b[0;32m   5556\u001b[0m \n\u001b[0;32m   5557\u001b[0m \u001b[39m    Parameters\u001b[39;00m\n\u001b[1;32m   (...)\u001b[0m\n\u001b[0;32m   5575\u001b[0m \u001b[39m        Reserved for future use\u001b[39;00m\n\u001b[0;32m   5576\u001b[0m \u001b[39m    \"\"\"\u001b[39;00m\n\u001b[1;32m-> 5577\u001b[0m     _check_err(_cbw\u001b[39m.\u001b[39;49mcbVOut(board_num, channel, ul_range, data_value, options))\n",
      "File \u001b[1;32mc:\\Users\\geofr\\AppData\\Local\\Programs\\Python\\Python311\\Lib\\site-packages\\mcculw\\ul.py:6128\u001b[0m, in \u001b[0;36m_check_err\u001b[1;34m(errcode)\u001b[0m\n\u001b[0;32m   6126\u001b[0m \u001b[39mdef\u001b[39;00m \u001b[39m_check_err\u001b[39m(errcode):\n\u001b[0;32m   6127\u001b[0m     \u001b[39mif\u001b[39;00m errcode:\n\u001b[1;32m-> 6128\u001b[0m         \u001b[39mraise\u001b[39;00m ULError(errcode)\n",
      "\u001b[1;31mULError\u001b[0m: Error 1: Invalid board number."
     ]
    }
   ],
   "source": [
    "digilent.v_out(0, 0, 10, 5)"
   ]
  },
  {
   "cell_type": "code",
   "execution_count": 5,
   "metadata": {},
   "outputs": [],
   "source": [
    "digilent.release_device(0)"
   ]
  }
 ],
 "metadata": {
  "kernelspec": {
   "display_name": "Python 3",
   "language": "python",
   "name": "python3"
  },
  "language_info": {
   "codemirror_mode": {
    "name": "ipython",
    "version": 3
   },
   "file_extension": ".py",
   "mimetype": "text/x-python",
   "name": "python",
   "nbconvert_exporter": "python",
   "pygments_lexer": "ipython3",
   "version": "3.11.0"
  },
  "orig_nbformat": 4
 },
 "nbformat": 4,
 "nbformat_minor": 2
}
